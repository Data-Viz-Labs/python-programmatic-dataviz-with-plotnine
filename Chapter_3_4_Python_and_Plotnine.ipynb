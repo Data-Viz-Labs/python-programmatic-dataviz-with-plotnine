{
  "cells": [
    {
      "cell_type": "markdown",
      "id": "fc46f6b3",
      "metadata": {
        "id": "fc46f6b3"
      },
      "source": [
        "# Plotnine"
      ]
    },
    {
      "cell_type": "markdown",
      "id": "71900d1b",
      "metadata": {
        "id": "71900d1b"
      },
      "source": [
        " In this tutorial, you’ll learn how to use ggplot in Python to create data\n",
        "\n",
        "\n",
        "```python\n",
        "plotnine==0.14.5\n",
        "```\n",
        "\n",
        "visualizations using a grammar of graphics. A grammar of graphics is a high-level tool that allows you to create data plots in an efficient and consistent way. It abstracts most low-level details, letting you focus on creating meaningful and beautiful visualizations for your data.\n",
        "\n",
        "There are several Python packages that provide a grammar of graphics. This tutorial focuses on plotnine since it’s one of the most mature ones. plotnine is based on ggplot2 from the R programming language, so if you have a background in R, then you can consider plotnine as the equivalent of ggplot2 in Python.\n",
        "\n",
        " https://realpython.com/ggplot-python/"
      ]
    },
    {
      "cell_type": "markdown",
      "id": "3148d2db",
      "metadata": {
        "id": "3148d2db"
      },
      "source": [
        "![xkcd](https://imgs.xkcd.com/comics/data_quality.png)"
      ]
    },
    {
      "cell_type": "code",
      "source": [
        "!pip freeze | grep -e plotnine"
      ],
      "metadata": {
        "id": "7eLNek6OSiRm"
      },
      "id": "7eLNek6OSiRm",
      "execution_count": null,
      "outputs": []
    },
    {
      "cell_type": "code",
      "execution_count": null,
      "id": "c9a446f0",
      "metadata": {
        "id": "c9a446f0"
      },
      "outputs": [],
      "source": [
        "# If necessary\n",
        "#!pip install plotnine==0.14.5"
      ]
    },
    {
      "cell_type": "code",
      "execution_count": null,
      "id": "9975a23b",
      "metadata": {
        "id": "9975a23b"
      },
      "outputs": [],
      "source": [
        "from plotnine import ggplot, ggtitle, aes, labs\n",
        "from plotnine import geom_col, geom_line, geom_boxplot, geom_bar, geom_point, geom_smooth, geom_histogram\n",
        "from plotnine import scale_x_timedelta, scale_shape_manual, scale_x_datetime\n",
        "from plotnine import stat_bin, stat_smooth\n",
        "from plotnine import facet_wrap, facet_grid\n",
        "from plotnine import coord_flip\n",
        "from plotnine import scale_color_hue, theme_dark\n",
        "\n",
        "from mizani.breaks import date_breaks           # required for date_breaks\n",
        "\n",
        "import pandas as pd\n",
        "import numpy as np"
      ]
    },
    {
      "cell_type": "code",
      "source": [
        "%matplotlib inline"
      ],
      "metadata": {
        "id": "RUzAn6d-SzSg"
      },
      "id": "RUzAn6d-SzSg",
      "execution_count": null,
      "outputs": []
    },
    {
      "cell_type": "markdown",
      "source": [
        "Load some datasets"
      ],
      "metadata": {
        "id": "uGgPNG49rjDf"
      },
      "id": "uGgPNG49rjDf"
    },
    {
      "cell_type": "code",
      "execution_count": null,
      "id": "b634e831",
      "metadata": {
        "id": "b634e831"
      },
      "outputs": [],
      "source": [
        "from plotnine.data import economics # a panda dataframe\n",
        "economics.head()"
      ]
    },
    {
      "cell_type": "code",
      "source": [
        "from plotnine.data import mpg\n",
        "mpg.head()"
      ],
      "metadata": {
        "id": "_e-kZdPuthiE"
      },
      "id": "_e-kZdPuthiE",
      "execution_count": null,
      "outputs": []
    },
    {
      "cell_type": "code",
      "source": [
        "from plotnine.data import mtcars\n",
        "mtcars.head()"
      ],
      "metadata": {
        "id": "47zpfJZTt0dg"
      },
      "id": "47zpfJZTt0dg",
      "execution_count": null,
      "outputs": []
    },
    {
      "cell_type": "code",
      "source": [
        "from plotnine.data import huron\n",
        "huron.head()"
      ],
      "metadata": {
        "id": "E0rkzwFouT3P"
      },
      "id": "E0rkzwFouT3P",
      "execution_count": null,
      "outputs": []
    },
    {
      "cell_type": "markdown",
      "source": [
        "Basics"
      ],
      "metadata": {
        "id": "YhrBhAq2rnKj"
      },
      "id": "YhrBhAq2rnKj"
    },
    {
      "cell_type": "markdown",
      "id": "16412ea2",
      "metadata": {
        "id": "16412ea2"
      },
      "source": [
        "1. You import the economics dataset.\n",
        "2. You import the ggplot() class as well as some useful functions from plotnine, aes() and geom_line().\n",
        "3. You create a plot object using ggplot(), passing the economics DataFrame to the constructor.\n",
        "4.  You add aes() to set the variable to use for each axis, in this case date and pop.\n",
        "5. You add geom_line() to specify that the chart should be drawn as a line graph."
      ]
    },
    {
      "cell_type": "code",
      "execution_count": null,
      "id": "de3ba129",
      "metadata": {
        "id": "de3ba129"
      },
      "outputs": [],
      "source": [
        "(\n",
        "    ggplot(economics)              # What data to use\n",
        "    + aes(x=\"date\", y=\"pop\")       # What variable to use\n",
        "    + geom_line()                  # Geometric object to use for drawing\n",
        ")"
      ]
    },
    {
      "cell_type": "code",
      "execution_count": null,
      "id": "caea2d39",
      "metadata": {
        "id": "caea2d39"
      },
      "outputs": [],
      "source": [
        "(\n",
        "    ggplot(economics)\n",
        "    + aes(x=\"date\", y=\"pop\")\n",
        "    + scale_x_datetime(\n",
        "        name=\"Years since 1970\",\n",
        "        breaks=date_breaks(width='10 years'),\n",
        "        date_labels=\"%Y\"\n",
        "    )\n",
        "    + labs(title=\"Population Evolution\", y=\"Population\")\n",
        "    + geom_line()\n",
        ")"
      ]
    },
    {
      "cell_type": "code",
      "execution_count": null,
      "id": "dac35567",
      "metadata": {
        "scrolled": false,
        "id": "dac35567"
      },
      "outputs": [],
      "source": [
        "(\n",
        "    ggplot(mpg)\n",
        "    + aes(x=\"class\")\n",
        "    + geom_bar()\n",
        ")"
      ]
    },
    {
      "cell_type": "code",
      "execution_count": null,
      "id": "06744ffe",
      "metadata": {
        "id": "06744ffe"
      },
      "outputs": [],
      "source": [
        "(\n",
        "  ggplot(huron)\n",
        "  + aes(x=\"factor(decade)\", y=\"level\")\n",
        "  + geom_boxplot()\n",
        ")"
      ]
    },
    {
      "cell_type": "code",
      "execution_count": null,
      "id": "03b0430d",
      "metadata": {
        "id": "03b0430d"
      },
      "outputs": [],
      "source": [
        "(\n",
        "    ggplot(mpg)\n",
        "    + aes(x=\"class\", y=\"hwy\")\n",
        "    + geom_point()\n",
        ")"
      ]
    },
    {
      "cell_type": "code",
      "execution_count": null,
      "id": "43710c4b",
      "metadata": {
        "id": "43710c4b"
      },
      "outputs": [],
      "source": [
        "(\n",
        "    ggplot(mpg)\n",
        "    + aes(x=\"cyl\", y=\"hwy\", color=\"class\")\n",
        "    + labs(\n",
        "        x=\"Engine Cylinders\",\n",
        "        y=\"Miles per Gallon\",\n",
        "        color=\"Vehicle Class\",\n",
        "        title=\"Miles per Gallon for Engine Cylinders and Vehicle Classes\",\n",
        "    )\n",
        "    + geom_point()\n",
        ")"
      ]
    },
    {
      "cell_type": "markdown",
      "source": [
        "Aesthetics"
      ],
      "metadata": {
        "id": "RPTEv77arnQ9"
      },
      "id": "RPTEv77arnQ9"
    },
    {
      "cell_type": "code",
      "execution_count": null,
      "id": "78c4bdb1",
      "metadata": {
        "scrolled": true,
        "id": "78c4bdb1"
      },
      "outputs": [],
      "source": [
        "(\n",
        "    ggplot(mpg)\n",
        "    + aes(x=\"class\")\n",
        "    + geom_bar()\n",
        "    + coord_flip()\n",
        ")"
      ]
    },
    {
      "cell_type": "markdown",
      "source": [
        "Scales"
      ],
      "metadata": {
        "id": "zfHdZIvZrnNu"
      },
      "id": "zfHdZIvZrnNu"
    },
    {
      "cell_type": "code",
      "execution_count": null,
      "id": "e5bc7133",
      "metadata": {
        "id": "e5bc7133"
      },
      "outputs": [],
      "source": [
        "df2 = pd.DataFrame({\n",
        "    'letter': ['Alpha', 'Beta', 'Delta', 'Gamma'] * 2,\n",
        "    'pos': [1, 2, 3, 4] * 2,\n",
        "    'num_of_letters': [5.0, 4.0, 5.0, 5.0] * 2  # Convertido a float\n",
        "})\n",
        "\n",
        "df2.loc[4:, 'num_of_letters'] += 0.8\n",
        "\n",
        "(\n",
        "    ggplot(df2)\n",
        "      + geom_col(aes(x='letter',y='pos', fill='letter'))\n",
        "      + geom_line(aes(x='letter', y='num_of_letters', color='letter'), size=1)\n",
        "      + scale_color_hue(l=0.45)                                                      # some contrast to make the lines stick out\n",
        "      + ggtitle('Greek Letter Analysis')\n",
        ")"
      ]
    },
    {
      "cell_type": "markdown",
      "source": [
        "Geometrics"
      ],
      "metadata": {
        "id": "sJt7bqZXrnUD"
      },
      "id": "sJt7bqZXrnUD"
    },
    {
      "cell_type": "code",
      "execution_count": null,
      "id": "e67dcd8a",
      "metadata": {
        "id": "e67dcd8a"
      },
      "outputs": [],
      "source": [
        "# Using Latex\n",
        "mixed_shapes = (\n",
        "    r'$\\mathrm{A}$',\n",
        "    r'$\\mathrm{B}$',\n",
        "    r'$\\mathrm{C}$',\n",
        "    r'$\\mathrm{D}$',\n",
        ")\n",
        "\n",
        "(\n",
        "    ggplot(mtcars, aes('wt', 'mpg', shape='factor(gear)', colour='factor(gear)'))\n",
        "    + geom_point(size=6)\n",
        "    + scale_shape_manual(values=mixed_shapes)\n",
        ")"
      ]
    },
    {
      "cell_type": "markdown",
      "source": [
        "Smoothers"
      ],
      "metadata": {
        "id": "JZULi_CtrnW5"
      },
      "id": "JZULi_CtrnW5"
    },
    {
      "cell_type": "code",
      "execution_count": null,
      "id": "aabd9a5c",
      "metadata": {
        "id": "aabd9a5c"
      },
      "outputs": [],
      "source": [
        "(\n",
        "    ggplot(mpg, aes(x='displ', y='hwy', color='factor(drv)'))\n",
        "    + geom_point()\n",
        "    + geom_smooth(method='lm')\n",
        "    + labs(x='displacement', y='horsepower')\n",
        ")"
      ]
    },
    {
      "cell_type": "code",
      "source": [
        "(\n",
        "    ggplot(mtcars, aes('wt', 'mpg', color='factor(gear)'))\n",
        "    + geom_point()\n",
        "    + stat_smooth(method='lm')\n",
        "    + facet_wrap('~gear')\n",
        ")"
      ],
      "metadata": {
        "id": "LbufRqnkrS-D"
      },
      "id": "LbufRqnkrS-D",
      "execution_count": null,
      "outputs": []
    },
    {
      "cell_type": "markdown",
      "source": [
        "Statistics"
      ],
      "metadata": {
        "id": "bheSwntTrnZx"
      },
      "id": "bheSwntTrnZx"
    },
    {
      "cell_type": "code",
      "execution_count": null,
      "id": "966f6d79",
      "metadata": {
        "id": "966f6d79"
      },
      "outputs": [],
      "source": [
        "(\n",
        "  ggplot(huron)\n",
        "    + aes(x=\"level\")\n",
        "    + stat_bin(bins=10)\n",
        "    + geom_bar()\n",
        ")"
      ]
    },
    {
      "cell_type": "code",
      "source": [
        "(\n",
        "    ggplot(mpg, aes(x = 'displ'))\n",
        "    + geom_histogram()\n",
        ")"
      ],
      "metadata": {
        "id": "4_jmv2vnxc5A"
      },
      "id": "4_jmv2vnxc5A",
      "execution_count": null,
      "outputs": []
    },
    {
      "cell_type": "code",
      "source": [
        "(\n",
        "    ggplot(mpg, aes(x = 'displ'))\n",
        "    + geom_histogram(binwidth=10)\n",
        ")"
      ],
      "metadata": {
        "id": "Vq37vgvzxc_Z"
      },
      "id": "Vq37vgvzxc_Z",
      "execution_count": null,
      "outputs": []
    },
    {
      "cell_type": "markdown",
      "source": [
        "Facets"
      ],
      "metadata": {
        "id": "IKawnoaisn9a"
      },
      "id": "IKawnoaisn9a"
    },
    {
      "cell_type": "code",
      "execution_count": null,
      "id": "c76a8867",
      "metadata": {
        "id": "c76a8867"
      },
      "outputs": [],
      "source": [
        "#facet_grid(\n",
        "#    facets=\"row~col\",     # Fórmula para dividir: \"var1~var2\" o \"var1~.\" o \".~var2\"\n",
        "#    scales=\"fixed\",       # \"fixed\", \"free\", \"free_x\", \"free_y\"\n",
        "#    space=\"fixed\",       # \"fixed\", \"free\", \"free_x\", \"free_y\"\n",
        "#    shrink=True,         # Ajustar escalas a datos en cada panel\n",
        "#    labeller=\"label_value\"  # Función para etiquetar facetas\n",
        "#)\n",
        "\n",
        "(\n",
        "    ggplot(mpg)\n",
        "    + facet_grid(\"year~class\")\n",
        "    + aes(x=\"displ\", y=\"hwy\")\n",
        "    + labs(\n",
        "        x=\"Engine Size\",\n",
        "        y=\"Miles per Gallon\",\n",
        "        title=\"Miles per Gallon for Each Year and Vehicle Class\",\n",
        "    )\n",
        "    + geom_point()\n",
        ")"
      ]
    },
    {
      "cell_type": "markdown",
      "source": [
        "Themes"
      ],
      "metadata": {
        "id": "T9hojvu2soAo"
      },
      "id": "T9hojvu2soAo"
    },
    {
      "cell_type": "code",
      "execution_count": null,
      "id": "46d74352",
      "metadata": {
        "id": "46d74352"
      },
      "outputs": [],
      "source": [
        "(\n",
        "    ggplot(mpg)\n",
        "    + facet_grid(\"year~class\")\n",
        "    + aes(x=\"displ\", y=\"hwy\")\n",
        "    + labs(\n",
        "        x=\"Engine Size\",\n",
        "        y=\"Miles per Gallon\",\n",
        "        title=\"Miles per Gallon for Each Year and Vehicle Class\",\n",
        "    )\n",
        "    + geom_point()\n",
        "    + theme_dark()\n",
        ")"
      ]
    }
  ],
  "metadata": {
    "kernelspec": {
      "display_name": "Python 3 (ipykernel)",
      "language": "python",
      "name": "python3"
    },
    "language_info": {
      "codemirror_mode": {
        "name": "ipython",
        "version": 3
      },
      "file_extension": ".py",
      "mimetype": "text/x-python",
      "name": "python",
      "nbconvert_exporter": "python",
      "pygments_lexer": "ipython3",
      "version": "3.9.16"
    },
    "colab": {
      "provenance": []
    }
  },
  "nbformat": 4,
  "nbformat_minor": 5
}