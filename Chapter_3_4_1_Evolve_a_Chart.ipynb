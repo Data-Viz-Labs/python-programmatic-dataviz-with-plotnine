{
  "cells": [
    {
      "cell_type": "markdown",
      "id": "fc46f6b3",
      "metadata": {
        "id": "fc46f6b3"
      },
      "source": [
        "# Plotnine | Evolve a Chart\n"
      ]
    },
    {
      "cell_type": "markdown",
      "id": "71900d1b",
      "metadata": {
        "id": "71900d1b"
      },
      "source": [
        " In this tutorial, you’ll learn how to improve a chart in plotnine\n",
        "\n",
        "```python\n",
        "plotnine==0.14.5\n",
        "```\n",
        "\n"
      ]
    },
    {
      "cell_type": "code",
      "source": [
        "!pip freeze | grep -e plotnine"
      ],
      "metadata": {
        "id": "7eLNek6OSiRm"
      },
      "id": "7eLNek6OSiRm",
      "execution_count": null,
      "outputs": []
    },
    {
      "cell_type": "code",
      "execution_count": null,
      "id": "c9a446f0",
      "metadata": {
        "id": "c9a446f0"
      },
      "outputs": [],
      "source": [
        "# If necessary\n",
        "#!pip install plotnine==0.14.5"
      ]
    },
    {
      "cell_type": "code",
      "execution_count": null,
      "id": "9975a23b",
      "metadata": {
        "id": "9975a23b"
      },
      "outputs": [],
      "source": [
        "from plotnine import *\n",
        "\n",
        "import pandas as pd\n",
        "import numpy as np"
      ]
    },
    {
      "cell_type": "code",
      "source": [
        "%matplotlib inline"
      ],
      "metadata": {
        "id": "RUzAn6d-SzSg"
      },
      "id": "RUzAn6d-SzSg",
      "execution_count": null,
      "outputs": []
    },
    {
      "cell_type": "code",
      "execution_count": null,
      "id": "c0f0a27a",
      "metadata": {
        "id": "c0f0a27a"
      },
      "outputs": [],
      "source": [
        "# Create some data\n",
        "# https://plotnine.readthedocs.io/en/stable/generated/plotnine.geoms.geom_col.html#two-variable-bar-plot\n",
        "df = pd.DataFrame({\n",
        "    'variable': ['gender', 'gender', 'age', 'age', 'age', 'income', 'income', 'income', 'income'],\n",
        "    'category': ['Female', 'Male', '1-24', '25-54', '55+', 'Lo', 'Lo-Med', 'Med', 'High'],\n",
        "    'value': [60, 40, 50, 30, 20, 10, 25, 25, 40],\n",
        "})\n",
        "\n",
        "df['variable'] = pd.Categorical(df['variable'], categories=['gender', 'age', 'income'])\n",
        "df['category'] = pd.Categorical(df['category'], categories=df['category'])"
      ]
    },
    {
      "cell_type": "code",
      "source": [
        "df"
      ],
      "metadata": {
        "id": "01a4267bTSsI"
      },
      "id": "01a4267bTSsI",
      "execution_count": null,
      "outputs": []
    },
    {
      "cell_type": "code",
      "source": [
        "(\n",
        "    ggplot(df, aes(x='variable', y='value', fill='category'))\n",
        "    + geom_col()\n",
        ")"
      ],
      "metadata": {
        "id": "qppD2BGxTgZ1"
      },
      "id": "qppD2BGxTgZ1",
      "execution_count": null,
      "outputs": []
    },
    {
      "cell_type": "code",
      "execution_count": null,
      "id": "bd3be2ab",
      "metadata": {
        "id": "bd3be2ab"
      },
      "outputs": [],
      "source": [
        "(\n",
        "    ggplot(df, aes(x='variable', y='value', fill='category'))\n",
        "    + geom_col(stat='identity', position='dodge', show_legend=False)\n",
        ")"
      ]
    },
    {
      "cell_type": "code",
      "source": [
        "(\n",
        "    ggplot(df, aes(x='variable', y='value', fill='category'))\n",
        "    + geom_col(stat='identity', show_legend=False)\n",
        "    + facet_wrap('~category')\n",
        ")"
      ],
      "metadata": {
        "id": "3QynYnBa5mcO"
      },
      "id": "3QynYnBa5mcO",
      "execution_count": null,
      "outputs": []
    },
    {
      "cell_type": "code",
      "source": [
        "(\n",
        "    ggplot(df, aes(x='variable', y='value', fill='category'))\n",
        "    + geom_col(stat='identity', position='dodge')\n",
        "    + lims(y=(-10, 600))\n",
        ")"
      ],
      "metadata": {
        "id": "PrFikcOU6XfZ"
      },
      "id": "PrFikcOU6XfZ",
      "execution_count": null,
      "outputs": []
    },
    {
      "cell_type": "code",
      "source": [
        "ccolor = '#555555'\n",
        "dodge_text = position_dodge(width=0.9)\n",
        "\n",
        "(\n",
        "    ggplot(df, aes(x='variable', y='value', fill='category'))\n",
        "    + geom_col(stat='identity', position='dodge', show_legend=False)\n",
        "    + geom_text(aes(y=-.5, label='category'), position=dodge_text, color=ccolor, size=8, angle=45, va='top')\n",
        "    + lims(y=(-5, 60))\n",
        ")"
      ],
      "metadata": {
        "id": "q0iQ_JF_4w0g"
      },
      "id": "q0iQ_JF_4w0g",
      "execution_count": null,
      "outputs": []
    },
    {
      "cell_type": "code",
      "source": [],
      "metadata": {
        "id": "3pwX5TiuAZFj"
      },
      "id": "3pwX5TiuAZFj",
      "execution_count": null,
      "outputs": []
    }
  ],
  "metadata": {
    "kernelspec": {
      "display_name": "Python 3 (ipykernel)",
      "language": "python",
      "name": "python3"
    },
    "language_info": {
      "codemirror_mode": {
        "name": "ipython",
        "version": 3
      },
      "file_extension": ".py",
      "mimetype": "text/x-python",
      "name": "python",
      "nbconvert_exporter": "python",
      "pygments_lexer": "ipython3",
      "version": "3.9.16"
    },
    "colab": {
      "provenance": []
    }
  },
  "nbformat": 4,
  "nbformat_minor": 5
}