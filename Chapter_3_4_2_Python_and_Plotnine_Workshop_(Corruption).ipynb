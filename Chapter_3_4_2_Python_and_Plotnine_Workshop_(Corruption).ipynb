{
  "cells": [
    {
      "cell_type": "markdown",
      "id": "aae18187",
      "metadata": {
        "id": "aae18187"
      },
      "source": [
        "## Plotnine Exercise"
      ]
    },
    {
      "cell_type": "markdown",
      "source": [
        " In this tutorial, you’ll learn how to improve a chart in plotnine\n",
        "\n",
        "```python\n",
        "plotnine==0.14.5\n",
        "```\n",
        "\n"
      ],
      "metadata": {
        "id": "I9ZQm8t2BFYz"
      },
      "id": "I9ZQm8t2BFYz"
    },
    {
      "cell_type": "code",
      "source": [
        "!pip freeze | grep -e plotnine\n",
        "\n",
        "# If necessary\n",
        "#!pip install plotnine==0.14.5"
      ],
      "metadata": {
        "id": "FH5UkvRlBEh_"
      },
      "id": "FH5UkvRlBEh_",
      "execution_count": null,
      "outputs": []
    },
    {
      "cell_type": "code",
      "execution_count": null,
      "id": "c97ca8c8",
      "metadata": {
        "id": "c97ca8c8"
      },
      "outputs": [],
      "source": [
        "import pandas as pd\n",
        "import numpy as np\n",
        "\n",
        "from plotnine import *"
      ]
    },
    {
      "cell_type": "code",
      "source": [
        "%matplotlib inline"
      ],
      "metadata": {
        "id": "OgxJHeMHBJah"
      },
      "id": "OgxJHeMHBJah",
      "execution_count": null,
      "outputs": []
    },
    {
      "cell_type": "code",
      "execution_count": null,
      "id": "0999cfcb",
      "metadata": {
        "id": "0999cfcb"
      },
      "outputs": [],
      "source": [
        "df=pd.read_csv(\"/content/DevelopementVsCorruption.csv\", encoding=\"ISO-8859-1\")\n",
        "df"
      ]
    },
    {
      "cell_type": "code",
      "execution_count": null,
      "id": "b70f8019",
      "metadata": {
        "id": "b70f8019"
      },
      "outputs": [],
      "source": [
        "df.columns"
      ]
    },
    {
      "cell_type": "markdown",
      "source": [
        "Diccionario de datos:\n",
        "\n",
        "* Country: Nombre del país\n",
        "* HDI Rank: Posición en el Índice de Desarrollo Humano (menor número = mejor posición)\n",
        "* HDI (Human Development Index): Índice de Desarrollo Humano (0-1, mayor = mejor desarrollo)\n",
        "* CPI (Corruption Perception Index): Índice de Percepción de Corrupción (0-10, mayor = menos corrupción)\n",
        "* Region: Región geográfica del país"
      ],
      "metadata": {
        "id": "AiuNahLgB9Sf"
      },
      "id": "AiuNahLgB9Sf"
    },
    {
      "cell_type": "markdown",
      "source": [
        "Vamos a hacer un gráfico enriquecido a partir de este"
      ],
      "metadata": {
        "id": "CBY1MX_GBVnf"
      },
      "id": "CBY1MX_GBVnf"
    },
    {
      "cell_type": "code",
      "execution_count": null,
      "id": "a722c7b5",
      "metadata": {
        "id": "a722c7b5"
      },
      "outputs": [],
      "source": [
        "(\n",
        "    ggplot(df)\n",
        "    + aes(x=\"CPI\", y=\"HDI\")\n",
        "    + geom_point()\n",
        ")"
      ]
    },
    {
      "cell_type": "markdown",
      "source": [
        "¿Cómo podríamos separar fácilmente todos estos puntos?\n",
        "Vamos a añadir un poco de color..."
      ],
      "metadata": {
        "id": "00hAj9qaCrS5"
      },
      "id": "00hAj9qaCrS5"
    },
    {
      "cell_type": "code",
      "source": [
        "(\n",
        "    ggplot(df)\n",
        "    + aes(x=\"CPI\", y=\"HDI\")\n",
        "    + geom_point(...)\n",
        ")"
      ],
      "metadata": {
        "id": "0wAn3_G3CrdR"
      },
      "id": "0wAn3_G3CrdR",
      "execution_count": null,
      "outputs": []
    },
    {
      "cell_type": "markdown",
      "source": [
        "¿Y si utilizamos algún tipo de marca por país?"
      ],
      "metadata": {
        "id": "FMMHXt2nCrj0"
      },
      "id": "FMMHXt2nCrj0"
    },
    {
      "cell_type": "code",
      "source": [
        "(\n",
        "    ggplot(df)\n",
        "    + aes(x=\"CPI\", y=\"HDI\")\n",
        "    + geom_point(...)\n",
        ")"
      ],
      "metadata": {
        "id": "Yg9JzcwpCroo"
      },
      "id": "Yg9JzcwpCroo",
      "execution_count": null,
      "outputs": []
    },
    {
      "cell_type": "markdown",
      "source": [
        "Genial, pero es que ahora quiero que sean toroides (forma de donut 🤤) con un hueco blanco en el interior"
      ],
      "metadata": {
        "id": "95euXrleCrtV"
      },
      "id": "95euXrleCrtV"
    },
    {
      "cell_type": "code",
      "source": [
        "(\n",
        "    ggplot(df)\n",
        "    + aes(x=\"CPI\", y=\"HDI\")\n",
        "    #+ geom_point(...)\n",
        ")"
      ],
      "metadata": {
        "id": "ENQ5b_0GCryI"
      },
      "id": "ENQ5b_0GCryI",
      "execution_count": null,
      "outputs": []
    },
    {
      "cell_type": "markdown",
      "source": [
        "Me gustaría que cada don... digo toroide tuviera el nombre del país pintado\n"
      ],
      "metadata": {
        "id": "MAndt5fWDIXa"
      },
      "id": "MAndt5fWDIXa"
    },
    {
      "cell_type": "code",
      "source": [
        "(\n",
        "    ggplot(df)\n",
        "    + aes(x=\"CPI\", y=\"HDI\")\n",
        "    #+ geom_point(...)\n",
        "    #+ geom_text(...)\n",
        ")"
      ],
      "metadata": {
        "id": "AjTsNV_QDIb3"
      },
      "id": "AjTsNV_QDIb3",
      "execution_count": null,
      "outputs": []
    },
    {
      "cell_type": "markdown",
      "source": [
        "No, todo más grande que no se lee"
      ],
      "metadata": {
        "id": "PF125bBhDIgl"
      },
      "id": "PF125bBhDIgl"
    },
    {
      "cell_type": "code",
      "source": [
        "(\n",
        "    ggplot(df)\n",
        "    + aes(x=\"CPI\", y=\"HDI\")\n",
        "    #+ geom_point(...)\n",
        "    #+ geom_text(...)\n",
        "    #+ theme(...)\n",
        ")"
      ],
      "metadata": {
        "id": "4A8pb7QzDIlT"
      },
      "id": "4A8pb7QzDIlT",
      "execution_count": null,
      "outputs": []
    },
    {
      "cell_type": "markdown",
      "source": [
        "Esos ejes... Necesitan algo más de detalle.\n",
        "Cambia lo siguiente:\n",
        "\n",
        "* CPI por \"Corruption Perception Index (10=Least corrupt)\"\n",
        "* HDI por \"Human Development Index,2011 (1=best)\"\n"
      ],
      "metadata": {
        "id": "UqCfDZfEE_e3"
      },
      "id": "UqCfDZfEE_e3"
    },
    {
      "cell_type": "code",
      "source": [
        "(\n",
        "    ggplot(df)\n",
        "    + aes(x=\"CPI\", y=\"HDI\")\n",
        "    #+ geom_point(...)\n",
        "    #+ geom_text(...)\n",
        "    # ...\n",
        "    #+ theme(...)\n",
        ")"
      ],
      "metadata": {
        "id": "eNJU71udE_k_"
      },
      "id": "eNJU71udE_k_",
      "execution_count": null,
      "outputs": []
    },
    {
      "cell_type": "markdown",
      "source": [
        "Muy bien, ahora un título: Relation between Corruption & Development"
      ],
      "metadata": {
        "id": "2pbP0ea_E_ps"
      },
      "id": "2pbP0ea_E_ps"
    },
    {
      "cell_type": "code",
      "source": [
        "(\n",
        "    ggplot(df)\n",
        "    + aes(x=\"CPI\", y=\"HDI\")\n",
        "    #+ geom_point(...)\n",
        "    #+ geom_text(...)\n",
        "    # ...\n",
        "    #+ theme(...)\n",
        ")"
      ],
      "metadata": {
        "id": "-U_SW9HIE_up"
      },
      "id": "-U_SW9HIE_up",
      "execution_count": null,
      "outputs": []
    },
    {
      "cell_type": "markdown",
      "source": [
        "Hmmm esos ejes no me terminan de convencer, quiero que el eje X vaya de 0 a 10 y el eje Y vaya de 0.2 a 1"
      ],
      "metadata": {
        "id": "6UAJMDWnE_zg"
      },
      "id": "6UAJMDWnE_zg"
    },
    {
      "cell_type": "code",
      "source": [
        "(\n",
        "    ggplot(df)\n",
        "    + aes(x=\"CPI\", y=\"HDI\")\n",
        "    #+ geom_point(...)\n",
        "    #+ geom_text(...)\n",
        "    # ...\n",
        "    #+ theme(...)\n",
        ")"
      ],
      "metadata": {
        "id": "VT562BmgE_4B"
      },
      "id": "VT562BmgE_4B",
      "execution_count": null,
      "outputs": []
    },
    {
      "cell_type": "markdown",
      "source": [
        "Hmmm ese hueco en los extremos del esquema no me gusta, quiero que los ejeces  se \"expandan\" y acabe justo en 0 y 10, y en 0.2 y 1.\n"
      ],
      "metadata": {
        "id": "2GuUIrfmMnfF"
      },
      "id": "2GuUIrfmMnfF"
    },
    {
      "cell_type": "code",
      "source": [
        "(\n",
        "    ggplot(df)\n",
        "    + aes(x=\"CPI\", y=\"HDI\")\n",
        "    #+ geom_point(...)\n",
        "    #+ geom_text(...)\n",
        "    # ...\n",
        "    #+ theme(...)\n",
        ")"
      ],
      "metadata": {
        "id": "acMIE8HGMnYJ"
      },
      "id": "acMIE8HGMnYJ",
      "execution_count": null,
      "outputs": []
    },
    {
      "cell_type": "markdown",
      "source": [
        "¿Y qué me dices de una línea de tendencia?"
      ],
      "metadata": {
        "id": "5A3yGCl8DIpX"
      },
      "id": "5A3yGCl8DIpX"
    },
    {
      "cell_type": "code",
      "source": [
        "(\n",
        "    ggplot(df)\n",
        "    + aes(x=\"CPI\", y=\"HDI\")\n",
        "    #+ geom_point(...)\n",
        "    #+ geom_text(...)\n",
        "    # ...\n",
        "    #+ theme(...)\n",
        ")"
      ],
      "metadata": {
        "id": "h_KJIduqNEXX"
      },
      "id": "h_KJIduqNEXX",
      "execution_count": null,
      "outputs": []
    }
  ],
  "metadata": {
    "kernelspec": {
      "display_name": "Python 3 (ipykernel)",
      "language": "python",
      "name": "python3"
    },
    "language_info": {
      "codemirror_mode": {
        "name": "ipython",
        "version": 3
      },
      "file_extension": ".py",
      "mimetype": "text/x-python",
      "name": "python",
      "nbconvert_exporter": "python",
      "pygments_lexer": "ipython3",
      "version": "3.9.16"
    },
    "colab": {
      "provenance": []
    }
  },
  "nbformat": 4,
  "nbformat_minor": 5
}